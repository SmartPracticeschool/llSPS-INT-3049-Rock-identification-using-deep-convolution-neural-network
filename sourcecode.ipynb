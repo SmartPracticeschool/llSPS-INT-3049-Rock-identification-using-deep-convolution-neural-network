{
  "nbformat": 4,
  "nbformat_minor": 0,
  "metadata": {
    "colab": {
      "name": "aimodel.ipynb",
      "provenance": []
    },
    "kernelspec": {
      "name": "python3",
      "display_name": "Python 3"
    },
    "accelerator": "GPU"
  },
  "cells": [
    {
      "cell_type": "code",
      "metadata": {
        "id": "-j7es3X_jriH",
        "colab_type": "code",
        "colab": {
          "base_uri": "https://localhost:8080/",
          "height": 34
        },
        "outputId": "eaf4d94d-43a5-404a-d399-e62a3aaa53f2"
      },
      "source": [
        "from google.colab import drive\n",
        "drive.mount('/content/gdrive')"
      ],
      "execution_count": null,
      "outputs": [
        {
          "output_type": "stream",
          "text": [
            "Mounted at /content/gdrive\n"
          ],
          "name": "stdout"
        }
      ]
    },
    {
      "cell_type": "code",
      "metadata": {
        "id": "OkAVZoAYkAyv",
        "colab_type": "code",
        "colab": {}
      },
      "source": [
        "from keras.layers import Dense\n",
        "from keras.layers import Convolution2D\n",
        "from keras.layers import MaxPooling2D\n",
        "from keras.layers import Flatten"
      ],
      "execution_count": null,
      "outputs": []
    },
    {
      "cell_type": "code",
      "metadata": {
        "id": "8d5AgaQalG1v",
        "colab_type": "code",
        "colab": {}
      },
      "source": [
        "from keras.models import Sequential\n",
        "model= Sequential()"
      ],
      "execution_count": null,
      "outputs": []
    },
    {
      "cell_type": "code",
      "metadata": {
        "id": "8vdkU9uulPO5",
        "colab_type": "code",
        "colab": {}
      },
      "source": [
        "model.add(Convolution2D(32,(3,3), input_shape=(64,64,3), activation= 'relu'))\n",
        "model.add(MaxPooling2D(pool_size =(2,2) ))\n",
        "model.add(Flatten())"
      ],
      "execution_count": null,
      "outputs": []
    },
    {
      "cell_type": "code",
      "metadata": {
        "id": "ewDDAun-ld5Z",
        "colab_type": "code",
        "colab": {
          "base_uri": "https://localhost:8080/",
          "height": 52
        },
        "outputId": "f133c10b-66a0-4894-e25c-03c2c5a7633c"
      },
      "source": [
        "model.add(Dense(units = 64, init= 'uniform', activation= 'relu'))"
      ],
      "execution_count": null,
      "outputs": [
        {
          "output_type": "stream",
          "text": [
            "/usr/local/lib/python3.6/dist-packages/ipykernel_launcher.py:1: UserWarning: Update your `Dense` call to the Keras 2 API: `Dense(units=64, activation=\"relu\", kernel_initializer=\"uniform\")`\n",
            "  \"\"\"Entry point for launching an IPython kernel.\n"
          ],
          "name": "stderr"
        }
      ]
    },
    {
      "cell_type": "code",
      "metadata": {
        "id": "iJyzO3zFlhFa",
        "colab_type": "code",
        "colab": {
          "base_uri": "https://localhost:8080/",
          "height": 52
        },
        "outputId": "58f813dc-c8de-42cc-893d-4acc67e10bad"
      },
      "source": [
        "model.add(Dense(output_dim = 3, init= 'uniform', activation= 'softmax'))"
      ],
      "execution_count": null,
      "outputs": [
        {
          "output_type": "stream",
          "text": [
            "/usr/local/lib/python3.6/dist-packages/ipykernel_launcher.py:1: UserWarning: Update your `Dense` call to the Keras 2 API: `Dense(activation=\"softmax\", units=3, kernel_initializer=\"uniform\")`\n",
            "  \"\"\"Entry point for launching an IPython kernel.\n"
          ],
          "name": "stderr"
        }
      ]
    },
    {
      "cell_type": "code",
      "metadata": {
        "id": "ZcTImfKWlo0X",
        "colab_type": "code",
        "colab": {}
      },
      "source": [
        "from keras.preprocessing.image import ImageDataGenerator\n",
        "train_datagen = ImageDataGenerator(rescale =1./255, shear_range=0.2, zoom_range= 0.2, horizontal_flip=True)\n",
        "test_datagen = ImageDataGenerator(rescale=1)"
      ],
      "execution_count": null,
      "outputs": []
    },
    {
      "cell_type": "code",
      "metadata": {
        "id": "OFEfpD27mRYN",
        "colab_type": "code",
        "colab": {
          "base_uri": "https://localhost:8080/",
          "height": 52
        },
        "outputId": "0e58acba-c88d-4439-d10a-681d8c619287"
      },
      "source": [
        "x_train = train_datagen.flow_from_directory(r'gdrive/My Drive/dataset/train_set', target_size= (64,64), batch_size=6, class_mode='categorical')\n",
        "x_test = test_datagen.flow_from_directory(r'gdrive/My Drive/dataset/test_set', target_size= (64,64), batch_size=6, class_mode='categorical')"
      ],
      "execution_count": null,
      "outputs": [
        {
          "output_type": "stream",
          "text": [
            "Found 240 images belonging to 3 classes.\n",
            "Found 60 images belonging to 3 classes.\n"
          ],
          "name": "stdout"
        }
      ]
    },
    {
      "cell_type": "code",
      "metadata": {
        "id": "vyF5IlEJneHL",
        "colab_type": "code",
        "colab": {
          "base_uri": "https://localhost:8080/",
          "height": 34
        },
        "outputId": "e0de0f7e-bfc8-4e4d-fc0b-f91017144741"
      },
      "source": [
        "print(x_train.class_indices)"
      ],
      "execution_count": null,
      "outputs": [
        {
          "output_type": "stream",
          "text": [
            "{'IGNEOUS-ROCKS': 0, 'METAMORPHIC-ROCKS': 1, 'SEDIMENTARY-ROCKS': 2}\n"
          ],
          "name": "stdout"
        }
      ]
    },
    {
      "cell_type": "code",
      "metadata": {
        "id": "h0CuvFpdopcw",
        "colab_type": "code",
        "colab": {}
      },
      "source": [
        "model.compile(loss= 'categorical_crossentropy', optimizer='adam', metrics= ['accuracy'])"
      ],
      "execution_count": null,
      "outputs": []
    },
    {
      "cell_type": "code",
      "metadata": {
        "id": "VK2PuFvRoqqP",
        "colab_type": "code",
        "colab": {
          "base_uri": "https://localhost:8080/",
          "height": 451
        },
        "outputId": "de104ca1-3405-4f27-d340-61d8b880950a"
      },
      "source": [
        "model.fit_generator(x_train, steps_per_epoch=40, epochs=12, validation_data= x_test, validation_steps= 10 )"
      ],
      "execution_count": null,
      "outputs": [
        {
          "output_type": "stream",
          "text": [
            "Epoch 1/12\n",
            "40/40 [==============================] - 2s 43ms/step - loss: 1.1656 - accuracy: 0.3208 - val_loss: 34.4519 - val_accuracy: 0.4167\n",
            "Epoch 2/12\n",
            "40/40 [==============================] - 2s 40ms/step - loss: 1.0851 - accuracy: 0.4042 - val_loss: 113.7155 - val_accuracy: 0.3333\n",
            "Epoch 3/12\n",
            "40/40 [==============================] - 2s 41ms/step - loss: 1.0975 - accuracy: 0.3708 - val_loss: 34.1990 - val_accuracy: 0.3667\n",
            "Epoch 4/12\n",
            "40/40 [==============================] - 2s 41ms/step - loss: 1.0705 - accuracy: 0.4417 - val_loss: 8.9372 - val_accuracy: 0.4000\n",
            "Epoch 5/12\n",
            "40/40 [==============================] - 2s 39ms/step - loss: 1.0522 - accuracy: 0.4250 - val_loss: 1.1126e-06 - val_accuracy: 0.6333\n",
            "Epoch 6/12\n",
            "40/40 [==============================] - 2s 40ms/step - loss: 1.0324 - accuracy: 0.4917 - val_loss: 30.7170 - val_accuracy: 0.5167\n",
            "Epoch 7/12\n",
            "40/40 [==============================] - 2s 41ms/step - loss: 1.0397 - accuracy: 0.4417 - val_loss: 12.8545 - val_accuracy: 0.5000\n",
            "Epoch 8/12\n",
            "40/40 [==============================] - 2s 40ms/step - loss: 1.0223 - accuracy: 0.4500 - val_loss: 58.7243 - val_accuracy: 0.5833\n",
            "Epoch 9/12\n",
            "40/40 [==============================] - 2s 41ms/step - loss: 0.9736 - accuracy: 0.4958 - val_loss: 132.2368 - val_accuracy: 0.4833\n",
            "Epoch 10/12\n",
            "40/40 [==============================] - 2s 40ms/step - loss: 0.9850 - accuracy: 0.5375 - val_loss: 24.3003 - val_accuracy: 0.6333\n",
            "Epoch 11/12\n",
            "40/40 [==============================] - 2s 41ms/step - loss: 0.9673 - accuracy: 0.5250 - val_loss: 79.3383 - val_accuracy: 0.5000\n",
            "Epoch 12/12\n",
            "40/40 [==============================] - 2s 39ms/step - loss: 0.9766 - accuracy: 0.5125 - val_loss: 65.6924 - val_accuracy: 0.5167\n"
          ],
          "name": "stdout"
        },
        {
          "output_type": "execute_result",
          "data": {
            "text/plain": [
              "<keras.callbacks.callbacks.History at 0x7fe2cb2401d0>"
            ]
          },
          "metadata": {
            "tags": []
          },
          "execution_count": 35
        }
      ]
    },
    {
      "cell_type": "code",
      "metadata": {
        "id": "uc2qDtmxpBUM",
        "colab_type": "code",
        "colab": {}
      },
      "source": [
        "model.save(\"model1.h5\")"
      ],
      "execution_count": null,
      "outputs": []
    },
    {
      "cell_type": "code",
      "metadata": {
        "id": "PcBl5Xquq1T0",
        "colab_type": "code",
        "colab": {}
      },
      "source": [
        "from keras.models import load_model\n",
        "from keras.preprocessing import image"
      ],
      "execution_count": null,
      "outputs": []
    },
    {
      "cell_type": "code",
      "metadata": {
        "id": "zJqJDWnPsKE-",
        "colab_type": "code",
        "colab": {}
      },
      "source": [
        "model=load_model(\"rcmodel.h5\")"
      ],
      "execution_count": null,
      "outputs": []
    },
    {
      "cell_type": "code",
      "metadata": {
        "id": "yvcyq6M7sSxQ",
        "colab_type": "code",
        "colab": {}
      },
      "source": [
        ""
      ],
      "execution_count": null,
      "outputs": []
    }
  ]
}